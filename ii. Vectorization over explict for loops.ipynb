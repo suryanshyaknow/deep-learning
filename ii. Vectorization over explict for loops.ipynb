{
 "cells": [
  {
   "cell_type": "code",
   "execution_count": 1,
   "id": "9db4a184",
   "metadata": {},
   "outputs": [
    {
     "data": {
      "application/javascript": [
       "IPython.notebook.set_autosave_interval(15000)"
      ]
     },
     "metadata": {},
     "output_type": "display_data"
    },
    {
     "name": "stdout",
     "output_type": "stream",
     "text": [
      "Autosaving every 15 seconds\n"
     ]
    }
   ],
   "source": [
    "%autosave 15"
   ]
  },
  {
   "cell_type": "markdown",
   "id": "3756b325",
   "metadata": {},
   "source": [
    "# i. Vectorization\n",
    "\n",
    "In the context of deep learning, **Vectorization** refers to the process of **performing mathematical operations on entire arrays or matrices**, rather than iterating through them element by element.\n",
    "\n",
    "It's an art of getting rid of **explicit for loops** to make computation faster.\n",
    "\n",
    "Let's see it in action:"
   ]
  },
  {
   "cell_type": "code",
   "execution_count": 2,
   "id": "154422ba",
   "metadata": {},
   "outputs": [],
   "source": [
    "import numpy as np\n",
    "import time"
   ]
  },
  {
   "cell_type": "code",
   "execution_count": 3,
   "id": "409b0850",
   "metadata": {},
   "outputs": [
    {
     "name": "stdout",
     "output_type": "stream",
     "text": [
      "250193.64044274198\n",
      "Using Vectorization: 10.63847541809082ms\n",
      "\n",
      "\n",
      "250193.64044273293\n",
      "Using for loop: 926.0344505310059ms\n"
     ]
    }
   ],
   "source": [
    "A = np.random.rand(1000000)\n",
    "B = np.random.rand(1000000)\n",
    "\n",
    "# Vectorization\n",
    "tic = time.time()\n",
    "C = np.dot(A, B)  # Not gonna matter much whether or not we take transpose of one of them as they both are 1-dimensional\n",
    "toc = time.time()\n",
    "\n",
    "print(C)\n",
    "print(\"Using Vectorization: \" + str(1000*(toc - tic)) + \"ms\")\n",
    "\n",
    "# Manual approach\n",
    "C = 0\n",
    "tic = time.time()\n",
    "for i in range(1000000):\n",
    "    C += A[i]*B[i]\n",
    "toc = time.time()\n",
    "\n",
    "print(\"\\n\")\n",
    "print(C)\n",
    "print(\"Using for loop: \" + str(1000*(toc - tic)) + \"ms\")"
   ]
  },
  {
   "cell_type": "markdown",
   "id": "85119730",
   "metadata": {},
   "source": [
    "**=>** As demonstraed, **Vectorization** here is nearly 345% faster, goddamn!"
   ]
  },
  {
   "cell_type": "code",
   "execution_count": null,
   "id": "5f4881dc",
   "metadata": {},
   "outputs": [],
   "source": []
  }
 ],
 "metadata": {
  "kernelspec": {
   "display_name": "Python 3 (ipykernel)",
   "language": "python",
   "name": "python3"
  },
  "language_info": {
   "codemirror_mode": {
    "name": "ipython",
    "version": 3
   },
   "file_extension": ".py",
   "mimetype": "text/x-python",
   "name": "python",
   "nbconvert_exporter": "python",
   "pygments_lexer": "ipython3",
   "version": "3.9.13"
  }
 },
 "nbformat": 4,
 "nbformat_minor": 5
}
